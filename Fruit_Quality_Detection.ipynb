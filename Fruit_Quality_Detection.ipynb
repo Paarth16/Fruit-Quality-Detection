{
  "cells": [
    {
      "cell_type": "markdown",
      "metadata": {
        "id": "yTZtnbTyRprg"
      },
      "source": [
        "# BACK END"
      ]
    },
    {
      "cell_type": "markdown",
      "metadata": {
        "id": "Tdhr6DcTRuB7"
      },
      "source": [
        "Import Libraries"
      ]
    },
    {
      "cell_type": "code",
      "execution_count": 6,
      "metadata": {
        "id": "juZujSORRyVU"
      },
      "outputs": [],
      "source": [
        "import tensorflow as tf\n",
        "from tensorflow.keras import layers, models\n",
        "from tensorflow.keras.preprocessing.image import ImageDataGenerator\n",
        "from tensorflow.keras.preprocessing.image import load_img, img_to_array\n",
        "import numpy as np\n",
        "import matplotlib.pyplot as plt\n",
        "import os\n",
        "import io\n",
        "from tkinter import Tk, filedialog\n",
        "import files"
      ]
    },
    {
      "cell_type": "markdown",
      "metadata": {
        "id": "RSWuArOaR0IO"
      },
      "source": [
        "Fruit type classifier"
      ]
    },
    {
      "cell_type": "code",
      "execution_count": 12,
      "metadata": {
        "colab": {
          "base_uri": "https://localhost:8080/"
        },
        "id": "yuIjc9oOS4Hj",
        "outputId": "3efb99e5-6630-49f3-fa43-da8667020cdd"
      },
      "outputs": [
        {
          "name": "stdout",
          "output_type": "stream",
          "text": [
            "Found 6272 images belonging to 2 classes.\n",
            "Found 1568 images belonging to 2 classes.\n",
            "Epoch 1/20\n",
            "\u001b[1m196/196\u001b[0m \u001b[32m━━━━━━━━━━━━━━━━━━━━\u001b[0m\u001b[37m\u001b[0m \u001b[1m42s\u001b[0m 211ms/step - accuracy: 0.9241 - loss: 0.2575 - val_accuracy: 0.9573 - val_loss: 0.1026\n",
            "Epoch 2/20\n",
            "\u001b[1m196/196\u001b[0m \u001b[32m━━━━━━━━━━━━━━━━━━━━\u001b[0m\u001b[37m\u001b[0m \u001b[1m42s\u001b[0m 213ms/step - accuracy: 0.9802 - loss: 0.0552 - val_accuracy: 0.9011 - val_loss: 0.2747\n",
            "Epoch 3/20\n",
            "\u001b[1m196/196\u001b[0m \u001b[32m━━━━━━━━━━━━━━━━━━━━\u001b[0m\u001b[37m\u001b[0m \u001b[1m43s\u001b[0m 219ms/step - accuracy: 0.9877 - loss: 0.0363 - val_accuracy: 0.9783 - val_loss: 0.0526\n",
            "Epoch 4/20\n",
            "\u001b[1m196/196\u001b[0m \u001b[32m━━━━━━━━━━━━━━━━━━━━\u001b[0m\u001b[37m\u001b[0m \u001b[1m42s\u001b[0m 212ms/step - accuracy: 0.9938 - loss: 0.0162 - val_accuracy: 0.9770 - val_loss: 0.0632\n",
            "Epoch 5/20\n",
            "\u001b[1m196/196\u001b[0m \u001b[32m━━━━━━━━━━━━━━━━━━━━\u001b[0m\u001b[37m\u001b[0m \u001b[1m40s\u001b[0m 204ms/step - accuracy: 0.9976 - loss: 0.0082 - val_accuracy: 0.9796 - val_loss: 0.0595\n",
            "Epoch 6/20\n",
            "\u001b[1m196/196\u001b[0m \u001b[32m━━━━━━━━━━━━━━━━━━━━\u001b[0m\u001b[37m\u001b[0m \u001b[1m41s\u001b[0m 208ms/step - accuracy: 0.9947 - loss: 0.0155 - val_accuracy: 0.9649 - val_loss: 0.1220\n",
            "Epoch 7/20\n",
            "\u001b[1m196/196\u001b[0m \u001b[32m━━━━━━━━━━━━━━━━━━━━\u001b[0m\u001b[37m\u001b[0m \u001b[1m41s\u001b[0m 210ms/step - accuracy: 0.9963 - loss: 0.0100 - val_accuracy: 0.9452 - val_loss: 0.1965\n",
            "Epoch 8/20\n",
            "\u001b[1m196/196\u001b[0m \u001b[32m━━━━━━━━━━━━━━━━━━━━\u001b[0m\u001b[37m\u001b[0m \u001b[1m42s\u001b[0m 214ms/step - accuracy: 0.9928 - loss: 0.0233 - val_accuracy: 0.9796 - val_loss: 0.0674\n",
            "Epoch 9/20\n",
            "\u001b[1m196/196\u001b[0m \u001b[32m━━━━━━━━━━━━━━━━━━━━\u001b[0m\u001b[37m\u001b[0m \u001b[1m42s\u001b[0m 213ms/step - accuracy: 0.9974 - loss: 0.0084 - val_accuracy: 0.9815 - val_loss: 0.0440\n",
            "Epoch 10/20\n",
            "\u001b[1m196/196\u001b[0m \u001b[32m━━━━━━━━━━━━━━━━━━━━\u001b[0m\u001b[37m\u001b[0m \u001b[1m44s\u001b[0m 223ms/step - accuracy: 0.9998 - loss: 0.0016 - val_accuracy: 0.9815 - val_loss: 0.0917\n",
            "Epoch 11/20\n",
            "\u001b[1m196/196\u001b[0m \u001b[32m━━━━━━━━━━━━━━━━━━━━\u001b[0m\u001b[37m\u001b[0m \u001b[1m42s\u001b[0m 216ms/step - accuracy: 1.0000 - loss: 4.1850e-04 - val_accuracy: 0.9828 - val_loss: 0.0794\n",
            "Epoch 12/20\n",
            "\u001b[1m196/196\u001b[0m \u001b[32m━━━━━━━━━━━━━━━━━━━━\u001b[0m\u001b[37m\u001b[0m \u001b[1m43s\u001b[0m 219ms/step - accuracy: 1.0000 - loss: 1.5254e-04 - val_accuracy: 0.9847 - val_loss: 0.0788\n",
            "Epoch 13/20\n",
            "\u001b[1m196/196\u001b[0m \u001b[32m━━━━━━━━━━━━━━━━━━━━\u001b[0m\u001b[37m\u001b[0m \u001b[1m40s\u001b[0m 205ms/step - accuracy: 1.0000 - loss: 8.3174e-05 - val_accuracy: 0.9841 - val_loss: 0.0777\n",
            "Epoch 14/20\n",
            "\u001b[1m196/196\u001b[0m \u001b[32m━━━━━━━━━━━━━━━━━━━━\u001b[0m\u001b[37m\u001b[0m \u001b[1m42s\u001b[0m 215ms/step - accuracy: 1.0000 - loss: 6.8675e-05 - val_accuracy: 0.9841 - val_loss: 0.0816\n",
            "Epoch 15/20\n",
            "\u001b[1m196/196\u001b[0m \u001b[32m━━━━━━━━━━━━━━━━━━━━\u001b[0m\u001b[37m\u001b[0m \u001b[1m42s\u001b[0m 215ms/step - accuracy: 1.0000 - loss: 5.9345e-05 - val_accuracy: 0.9841 - val_loss: 0.0842\n",
            "Epoch 16/20\n",
            "\u001b[1m196/196\u001b[0m \u001b[32m━━━━━━━━━━━━━━━━━━━━\u001b[0m\u001b[37m\u001b[0m \u001b[1m43s\u001b[0m 218ms/step - accuracy: 1.0000 - loss: 5.0082e-05 - val_accuracy: 0.9847 - val_loss: 0.0736\n",
            "Epoch 17/20\n",
            "\u001b[1m196/196\u001b[0m \u001b[32m━━━━━━━━━━━━━━━━━━━━\u001b[0m\u001b[37m\u001b[0m \u001b[1m44s\u001b[0m 222ms/step - accuracy: 1.0000 - loss: 4.4610e-05 - val_accuracy: 0.9841 - val_loss: 0.0851\n",
            "Epoch 18/20\n",
            "\u001b[1m196/196\u001b[0m \u001b[32m━━━━━━━━━━━━━━━━━━━━\u001b[0m\u001b[37m\u001b[0m \u001b[1m44s\u001b[0m 223ms/step - accuracy: 1.0000 - loss: 3.7826e-05 - val_accuracy: 0.9841 - val_loss: 0.0832\n",
            "Epoch 19/20\n",
            "\u001b[1m196/196\u001b[0m \u001b[32m━━━━━━━━━━━━━━━━━━━━\u001b[0m\u001b[37m\u001b[0m \u001b[1m42s\u001b[0m 213ms/step - accuracy: 1.0000 - loss: 3.3829e-05 - val_accuracy: 0.9841 - val_loss: 0.0906\n",
            "Epoch 20/20\n",
            "\u001b[1m196/196\u001b[0m \u001b[32m━━━━━━━━━━━━━━━━━━━━\u001b[0m\u001b[37m\u001b[0m \u001b[1m41s\u001b[0m 208ms/step - accuracy: 1.0000 - loss: 3.0182e-05 - val_accuracy: 0.9841 - val_loss: 0.0877\n"
          ]
        },
        {
          "name": "stderr",
          "output_type": "stream",
          "text": [
            "WARNING:absl:You are saving your model as an HDF5 file via `model.save()` or `keras.saving.save_model(model)`. This file format is considered legacy. We recommend using instead the native Keras format, e.g. `model.save('my_model.keras')` or `keras.saving.save_model(model, 'my_model.keras')`. \n"
          ]
        }
      ],
      "source": [
        "from tensorflow.keras.preprocessing.image import ImageDataGenerator\n",
        "\n",
        "datagen = ImageDataGenerator(rescale=1.0/255, validation_split=0.2)\n",
        "\n",
        "train_gen = datagen.flow_from_directory(\n",
        "    'dataset/',\n",
        "    target_size=(128, 128),\n",
        "    batch_size=32,\n",
        "    class_mode='binary',\n",
        "    subset='training'\n",
        ")\n",
        "\n",
        "val_gen = datagen.flow_from_directory(\n",
        "    'dataset/',\n",
        "    target_size=(128, 128),\n",
        "    batch_size=32,\n",
        "    class_mode='binary',\n",
        "    subset='validation'\n",
        ")\n",
        "\n",
        "fruit_model = tf.keras.models.Sequential([\n",
        "    tf.keras.layers.Conv2D(32, (3, 3), activation='relu', input_shape=(128, 128, 3)),\n",
        "    tf.keras.layers.MaxPooling2D(2, 2),\n",
        "    tf.keras.layers.Flatten(),\n",
        "    tf.keras.layers.Dense(128, activation='relu'),\n",
        "    tf.keras.layers.Dense(1, activation='sigmoid')\n",
        "])\n",
        "\n",
        "fruit_model.compile(optimizer='adam', loss='binary_crossentropy', metrics=['accuracy'])\n",
        "\n",
        "fruit_model.fit(train_gen, epochs=20, validation_data=val_gen)\n",
        "\n",
        "fruit_model.save(\"fruit_classifier.h5\")\n"
      ]
    },
    {
      "cell_type": "markdown",
      "metadata": {
        "id": "_OePqwojS2A0"
      },
      "source": [
        "Quality classifier"
      ]
    },
    {
      "cell_type": "code",
      "execution_count": 11,
      "metadata": {
        "colab": {
          "base_uri": "https://localhost:8080/"
        },
        "id": "yEgeh5XcS7m6",
        "outputId": "c265beb2-510a-4db5-e8ed-40116753ab11"
      },
      "outputs": [
        {
          "name": "stdout",
          "output_type": "stream",
          "text": [
            "Found 3229 images belonging to 2 classes.\n",
            "Found 806 images belonging to 2 classes.\n",
            "Epoch 1/20\n",
            "\u001b[1m101/101\u001b[0m \u001b[32m━━━━━━━━━━━━━━━━━━━━\u001b[0m\u001b[37m\u001b[0m \u001b[1m23s\u001b[0m 216ms/step - accuracy: 0.8136 - loss: 0.8258 - val_accuracy: 0.8127 - val_loss: 0.4073\n",
            "Epoch 2/20\n",
            "\u001b[1m101/101\u001b[0m \u001b[32m━━━━━━━━━━━━━━━━━━━━\u001b[0m\u001b[37m\u001b[0m \u001b[1m21s\u001b[0m 208ms/step - accuracy: 0.9031 - loss: 0.2368 - val_accuracy: 0.9355 - val_loss: 0.1809\n",
            "Epoch 3/20\n",
            "\u001b[1m101/101\u001b[0m \u001b[32m━━━━━━━━━━━━━━━━━━━━\u001b[0m\u001b[37m\u001b[0m \u001b[1m22s\u001b[0m 214ms/step - accuracy: 0.9263 - loss: 0.1947 - val_accuracy: 0.9181 - val_loss: 0.2064\n",
            "Epoch 4/20\n",
            "\u001b[1m101/101\u001b[0m \u001b[32m━━━━━━━━━━━━━━━━━━━━\u001b[0m\u001b[37m\u001b[0m \u001b[1m22s\u001b[0m 215ms/step - accuracy: 0.9343 - loss: 0.1667 - val_accuracy: 0.9355 - val_loss: 0.1667\n",
            "Epoch 5/20\n",
            "\u001b[1m101/101\u001b[0m \u001b[32m━━━━━━━━━━━━━━━━━━━━\u001b[0m\u001b[37m\u001b[0m \u001b[1m20s\u001b[0m 199ms/step - accuracy: 0.9498 - loss: 0.1270 - val_accuracy: 0.9355 - val_loss: 0.1678\n",
            "Epoch 6/20\n",
            "\u001b[1m101/101\u001b[0m \u001b[32m━━━━━━━━━━━━━━━━━━━━\u001b[0m\u001b[37m\u001b[0m \u001b[1m21s\u001b[0m 205ms/step - accuracy: 0.9554 - loss: 0.1177 - val_accuracy: 0.9467 - val_loss: 0.1307\n",
            "Epoch 7/20\n",
            "\u001b[1m101/101\u001b[0m \u001b[32m━━━━━━━━━━━━━━━━━━━━\u001b[0m\u001b[37m\u001b[0m \u001b[1m20s\u001b[0m 201ms/step - accuracy: 0.9678 - loss: 0.0878 - val_accuracy: 0.9553 - val_loss: 0.1177\n",
            "Epoch 8/20\n",
            "\u001b[1m101/101\u001b[0m \u001b[32m━━━━━━━━━━━━━━━━━━━━\u001b[0m\u001b[37m\u001b[0m \u001b[1m22s\u001b[0m 222ms/step - accuracy: 0.9799 - loss: 0.0595 - val_accuracy: 0.9665 - val_loss: 0.0904\n",
            "Epoch 9/20\n",
            "\u001b[1m101/101\u001b[0m \u001b[32m━━━━━━━━━━━━━━━━━━━━\u001b[0m\u001b[37m\u001b[0m \u001b[1m22s\u001b[0m 213ms/step - accuracy: 0.9793 - loss: 0.0571 - val_accuracy: 0.9653 - val_loss: 0.0903\n",
            "Epoch 10/20\n",
            "\u001b[1m101/101\u001b[0m \u001b[32m━━━━━━━━━━━━━━━━━━━━\u001b[0m\u001b[37m\u001b[0m \u001b[1m21s\u001b[0m 210ms/step - accuracy: 0.9814 - loss: 0.0532 - val_accuracy: 0.9516 - val_loss: 0.1388\n",
            "Epoch 11/20\n",
            "\u001b[1m101/101\u001b[0m \u001b[32m━━━━━━━━━━━━━━━━━━━━\u001b[0m\u001b[37m\u001b[0m \u001b[1m22s\u001b[0m 216ms/step - accuracy: 0.9867 - loss: 0.0415 - val_accuracy: 0.9690 - val_loss: 0.0801\n",
            "Epoch 12/20\n",
            "\u001b[1m101/101\u001b[0m \u001b[32m━━━━━━━━━━━━━━━━━━━━\u001b[0m\u001b[37m\u001b[0m \u001b[1m21s\u001b[0m 204ms/step - accuracy: 0.9923 - loss: 0.0268 - val_accuracy: 0.9194 - val_loss: 0.2181\n",
            "Epoch 13/20\n",
            "\u001b[1m101/101\u001b[0m \u001b[32m━━━━━━━━━━━━━━━━━━━━\u001b[0m\u001b[37m\u001b[0m \u001b[1m21s\u001b[0m 209ms/step - accuracy: 0.9885 - loss: 0.0382 - val_accuracy: 0.9529 - val_loss: 0.1385\n",
            "Epoch 14/20\n",
            "\u001b[1m101/101\u001b[0m \u001b[32m━━━━━━━━━━━━━━━━━━━━\u001b[0m\u001b[37m\u001b[0m \u001b[1m21s\u001b[0m 207ms/step - accuracy: 0.9941 - loss: 0.0211 - val_accuracy: 0.9603 - val_loss: 0.1012\n",
            "Epoch 15/20\n",
            "\u001b[1m101/101\u001b[0m \u001b[32m━━━━━━━━━━━━━━━━━━━━\u001b[0m\u001b[37m\u001b[0m \u001b[1m21s\u001b[0m 212ms/step - accuracy: 0.9935 - loss: 0.0235 - val_accuracy: 0.9690 - val_loss: 0.0711\n",
            "Epoch 16/20\n",
            "\u001b[1m101/101\u001b[0m \u001b[32m━━━━━━━━━━━━━━━━━━━━\u001b[0m\u001b[37m\u001b[0m \u001b[1m22s\u001b[0m 219ms/step - accuracy: 0.9994 - loss: 0.0088 - val_accuracy: 0.9702 - val_loss: 0.1032\n",
            "Epoch 17/20\n",
            "\u001b[1m101/101\u001b[0m \u001b[32m━━━━━━━━━━━━━━━━━━━━\u001b[0m\u001b[37m\u001b[0m \u001b[1m22s\u001b[0m 214ms/step - accuracy: 0.9972 - loss: 0.0158 - val_accuracy: 0.9677 - val_loss: 0.0905\n",
            "Epoch 18/20\n",
            "\u001b[1m101/101\u001b[0m \u001b[32m━━━━━━━━━━━━━━━━━━━━\u001b[0m\u001b[37m\u001b[0m \u001b[1m21s\u001b[0m 207ms/step - accuracy: 0.9988 - loss: 0.0077 - val_accuracy: 0.9640 - val_loss: 0.1192\n",
            "Epoch 19/20\n",
            "\u001b[1m101/101\u001b[0m \u001b[32m━━━━━━━━━━━━━━━━━━━━\u001b[0m\u001b[37m\u001b[0m \u001b[1m21s\u001b[0m 210ms/step - accuracy: 0.9991 - loss: 0.0066 - val_accuracy: 0.9727 - val_loss: 0.0732\n",
            "Epoch 20/20\n",
            "\u001b[1m101/101\u001b[0m \u001b[32m━━━━━━━━━━━━━━━━━━━━\u001b[0m\u001b[37m\u001b[0m \u001b[1m22s\u001b[0m 217ms/step - accuracy: 1.0000 - loss: 0.0018 - val_accuracy: 0.9715 - val_loss: 0.0856\n"
          ]
        },
        {
          "name": "stderr",
          "output_type": "stream",
          "text": [
            "WARNING:absl:You are saving your model as an HDF5 file via `model.save()` or `keras.saving.save_model(model)`. This file format is considered legacy. We recommend using instead the native Keras format, e.g. `model.save('my_model.keras')` or `keras.saving.save_model(model, 'my_model.keras')`. \n"
          ]
        },
        {
          "name": "stdout",
          "output_type": "stream",
          "text": [
            "Found 3045 images belonging to 2 classes.\n",
            "Found 760 images belonging to 2 classes.\n",
            "Epoch 1/20\n",
            "\u001b[1m96/96\u001b[0m \u001b[32m━━━━━━━━━━━━━━━━━━━━\u001b[0m\u001b[37m\u001b[0m \u001b[1m24s\u001b[0m 235ms/step - accuracy: 0.9002 - loss: 0.6759 - val_accuracy: 0.9855 - val_loss: 0.0479\n",
            "Epoch 2/20\n",
            "\u001b[1m96/96\u001b[0m \u001b[32m━━━━━━━━━━━━━━━━━━━━\u001b[0m\u001b[37m\u001b[0m \u001b[1m22s\u001b[0m 230ms/step - accuracy: 0.9895 - loss: 0.0415 - val_accuracy: 0.9763 - val_loss: 0.0647\n",
            "Epoch 3/20\n",
            "\u001b[1m96/96\u001b[0m \u001b[32m━━━━━━━━━━━━━━━━━━━━\u001b[0m\u001b[37m\u001b[0m \u001b[1m21s\u001b[0m 217ms/step - accuracy: 0.9842 - loss: 0.0422 - val_accuracy: 0.9947 - val_loss: 0.0204\n",
            "Epoch 4/20\n",
            "\u001b[1m96/96\u001b[0m \u001b[32m━━━━━━━━━━━━━━━━━━━━\u001b[0m\u001b[37m\u001b[0m \u001b[1m22s\u001b[0m 226ms/step - accuracy: 0.9967 - loss: 0.0128 - val_accuracy: 0.9987 - val_loss: 0.0084\n",
            "Epoch 5/20\n",
            "\u001b[1m96/96\u001b[0m \u001b[32m━━━━━━━━━━━━━━━━━━━━\u001b[0m\u001b[37m\u001b[0m \u001b[1m21s\u001b[0m 216ms/step - accuracy: 0.9997 - loss: 0.0038 - val_accuracy: 0.9974 - val_loss: 0.0084\n",
            "Epoch 6/20\n",
            "\u001b[1m96/96\u001b[0m \u001b[32m━━━━━━━━━━━━━━━━━━━━\u001b[0m\u001b[37m\u001b[0m \u001b[1m21s\u001b[0m 218ms/step - accuracy: 0.9997 - loss: 0.0026 - val_accuracy: 0.9974 - val_loss: 0.0083\n",
            "Epoch 7/20\n",
            "\u001b[1m96/96\u001b[0m \u001b[32m━━━━━━━━━━━━━━━━━━━━\u001b[0m\u001b[37m\u001b[0m \u001b[1m21s\u001b[0m 218ms/step - accuracy: 1.0000 - loss: 0.0011 - val_accuracy: 0.9987 - val_loss: 0.0071\n",
            "Epoch 8/20\n",
            "\u001b[1m96/96\u001b[0m \u001b[32m━━━━━━━━━━━━━━━━━━━━\u001b[0m\u001b[37m\u001b[0m \u001b[1m21s\u001b[0m 217ms/step - accuracy: 1.0000 - loss: 7.3597e-04 - val_accuracy: 0.9987 - val_loss: 0.0058\n",
            "Epoch 9/20\n",
            "\u001b[1m96/96\u001b[0m \u001b[32m━━━━━━━━━━━━━━━━━━━━\u001b[0m\u001b[37m\u001b[0m \u001b[1m20s\u001b[0m 213ms/step - accuracy: 1.0000 - loss: 6.4358e-04 - val_accuracy: 0.9987 - val_loss: 0.0068\n",
            "Epoch 10/20\n",
            "\u001b[1m96/96\u001b[0m \u001b[32m━━━━━━━━━━━━━━━━━━━━\u001b[0m\u001b[37m\u001b[0m \u001b[1m22s\u001b[0m 228ms/step - accuracy: 1.0000 - loss: 4.1182e-04 - val_accuracy: 0.9974 - val_loss: 0.0064\n",
            "Epoch 11/20\n",
            "\u001b[1m96/96\u001b[0m \u001b[32m━━━━━━━━━━━━━━━━━━━━\u001b[0m\u001b[37m\u001b[0m \u001b[1m22s\u001b[0m 224ms/step - accuracy: 1.0000 - loss: 2.6938e-04 - val_accuracy: 0.9987 - val_loss: 0.0051\n",
            "Epoch 12/20\n",
            "\u001b[1m96/96\u001b[0m \u001b[32m━━━━━━━━━━━━━━━━━━━━\u001b[0m\u001b[37m\u001b[0m \u001b[1m22s\u001b[0m 225ms/step - accuracy: 1.0000 - loss: 1.9607e-04 - val_accuracy: 0.9974 - val_loss: 0.0061\n",
            "Epoch 13/20\n",
            "\u001b[1m96/96\u001b[0m \u001b[32m━━━━━━━━━━━━━━━━━━━━\u001b[0m\u001b[37m\u001b[0m \u001b[1m21s\u001b[0m 220ms/step - accuracy: 1.0000 - loss: 1.5936e-04 - val_accuracy: 0.9974 - val_loss: 0.0063\n",
            "Epoch 14/20\n",
            "\u001b[1m96/96\u001b[0m \u001b[32m━━━━━━━━━━━━━━━━━━━━\u001b[0m\u001b[37m\u001b[0m \u001b[1m21s\u001b[0m 220ms/step - accuracy: 1.0000 - loss: 1.1451e-04 - val_accuracy: 0.9987 - val_loss: 0.0059\n",
            "Epoch 15/20\n",
            "\u001b[1m96/96\u001b[0m \u001b[32m━━━━━━━━━━━━━━━━━━━━\u001b[0m\u001b[37m\u001b[0m \u001b[1m21s\u001b[0m 216ms/step - accuracy: 1.0000 - loss: 1.2368e-04 - val_accuracy: 0.9974 - val_loss: 0.0057\n",
            "Epoch 16/20\n",
            "\u001b[1m96/96\u001b[0m \u001b[32m━━━━━━━━━━━━━━━━━━━━\u001b[0m\u001b[37m\u001b[0m \u001b[1m21s\u001b[0m 216ms/step - accuracy: 1.0000 - loss: 8.1546e-05 - val_accuracy: 0.9987 - val_loss: 0.0048\n",
            "Epoch 17/20\n",
            "\u001b[1m96/96\u001b[0m \u001b[32m━━━━━━━━━━━━━━━━━━━━\u001b[0m\u001b[37m\u001b[0m \u001b[1m21s\u001b[0m 217ms/step - accuracy: 1.0000 - loss: 6.6813e-05 - val_accuracy: 0.9974 - val_loss: 0.0058\n",
            "Epoch 18/20\n",
            "\u001b[1m96/96\u001b[0m \u001b[32m━━━━━━━━━━━━━━━━━━━━\u001b[0m\u001b[37m\u001b[0m \u001b[1m23s\u001b[0m 236ms/step - accuracy: 1.0000 - loss: 5.4790e-05 - val_accuracy: 0.9987 - val_loss: 0.0052\n",
            "Epoch 19/20\n",
            "\u001b[1m96/96\u001b[0m \u001b[32m━━━━━━━━━━━━━━━━━━━━\u001b[0m\u001b[37m\u001b[0m \u001b[1m21s\u001b[0m 222ms/step - accuracy: 1.0000 - loss: 5.2580e-05 - val_accuracy: 0.9974 - val_loss: 0.0059\n",
            "Epoch 20/20\n",
            "\u001b[1m96/96\u001b[0m \u001b[32m━━━━━━━━━━━━━━━━━━━━\u001b[0m\u001b[37m\u001b[0m \u001b[1m21s\u001b[0m 218ms/step - accuracy: 1.0000 - loss: 3.8425e-05 - val_accuracy: 0.9974 - val_loss: 0.0066\n"
          ]
        },
        {
          "name": "stderr",
          "output_type": "stream",
          "text": [
            "WARNING:absl:You are saving your model as an HDF5 file via `model.save()` or `keras.saving.save_model(model)`. This file format is considered legacy. We recommend using instead the native Keras format, e.g. `model.save('my_model.keras')` or `keras.saving.save_model(model, 'my_model.keras')`. \n"
          ]
        }
      ],
      "source": [
        "apple_train_dir = 'dataset/apple/'\n",
        "banana_train_dir = 'dataset/banana/'\n",
        "\n",
        "apple_gen = datagen.flow_from_directory(\n",
        "    apple_train_dir,\n",
        "    target_size=(128, 128),\n",
        "    batch_size=32,\n",
        "    class_mode='binary',\n",
        "    subset='training'\n",
        ")\n",
        "\n",
        "apple_val_gen = datagen.flow_from_directory(\n",
        "    apple_train_dir,\n",
        "    target_size=(128, 128),\n",
        "    batch_size=32,\n",
        "    class_mode='binary',\n",
        "    subset='validation'\n",
        ")\n",
        "\n",
        "apple_model = tf.keras.models.Sequential([\n",
        "    tf.keras.layers.Conv2D(32, (3, 3), activation='relu', input_shape=(128, 128, 3)),\n",
        "    tf.keras.layers.MaxPooling2D(2, 2),\n",
        "    tf.keras.layers.Flatten(),\n",
        "    tf.keras.layers.Dense(128, activation='relu'),\n",
        "    tf.keras.layers.Dense(1, activation='sigmoid')\n",
        "])\n",
        "\n",
        "apple_model.compile(optimizer='adam', loss='binary_crossentropy', metrics=['accuracy'])\n",
        "\n",
        "apple_model.fit(apple_gen, epochs=20, validation_data=apple_val_gen)\n",
        "apple_model.save(\"apple_quality_classifier.h5\")\n",
        "\n",
        "banana_gen = datagen.flow_from_directory(\n",
        "    banana_train_dir,\n",
        "    target_size=(128, 128),\n",
        "    batch_size=32,\n",
        "    class_mode='binary',\n",
        "    subset='training'\n",
        ")\n",
        "\n",
        "banana_val_gen = datagen.flow_from_directory(\n",
        "    banana_train_dir,\n",
        "    target_size=(128, 128),\n",
        "    batch_size=32,\n",
        "    class_mode='binary',\n",
        "    subset='validation'\n",
        ")\n",
        "\n",
        "banana_model = tf.keras.models.Sequential([\n",
        "    tf.keras.layers.Conv2D(32, (3, 3), activation='relu', input_shape=(128, 128, 3)),\n",
        "    tf.keras.layers.MaxPooling2D(2, 2),\n",
        "    tf.keras.layers.Flatten(),\n",
        "    tf.keras.layers.Dense(128, activation='relu'),\n",
        "    tf.keras.layers.Dense(1, activation='sigmoid')\n",
        "])\n",
        "\n",
        "banana_model.compile(optimizer='adam', loss='binary_crossentropy', metrics=['accuracy'])\n",
        "\n",
        "banana_model.fit(banana_gen, epochs=20, validation_data=banana_val_gen)\n",
        "banana_model.save(\"banana_quality_classifier.h5\")"
      ]
    },
    {
      "cell_type": "markdown",
      "metadata": {},
      "source": [
        "Download the models (If needed)"
      ]
    },
    {
      "cell_type": "code",
      "execution_count": null,
      "metadata": {},
      "outputs": [],
      "source": [
        "import gdown\n",
        "\n",
        "# Download trained models from Google Drive\n",
        "gdown.download(\"https://drive.google.com/file/d/1jQd_ta74YLn7EDHQ82tt5EhWwFYLa4zT/view?usp=sharing\", \"fruit_classifier.h5\", quiet=False)\n",
        "gdown.download(\"https://drive.google.com/file/d/1z56tVm_9AIy7672ofTTJRYovPqGLtLnq/view?usp=sharing\", \"apple_quality_classifier.h5\", quiet=False)\n",
        "gdown.download(\"https://drive.google.com/file/d/11XTLPyayRPiKz6UmQnOtSJQ72rJXfCJe/view?usp=sharing\", \"banana_quality_classifier.h5\", quiet=False)"
      ]
    },
    {
      "cell_type": "markdown",
      "metadata": {
        "id": "hjsbvMAKZ6zh"
      },
      "source": [
        "Evaluating the Model\n"
      ]
    },
    {
      "cell_type": "code",
      "execution_count": null,
      "metadata": {},
      "outputs": [
        {
          "name": "stderr",
          "output_type": "stream",
          "text": [
            "WARNING:absl:Compiled the loaded model, but the compiled metrics have yet to be built. `model.compile_metrics` will be empty until you train or evaluate the model.\n"
          ]
        },
        {
          "name": "stdout",
          "output_type": "stream",
          "text": [
            "\n",
            "=== Evaluating Fruit Classifier (Apple vs Banana) ===\n",
            "Found 7840 images belonging to 2 classes.\n",
            "\u001b[1m245/245\u001b[0m \u001b[32m━━━━━━━━━━━━━━━━━━━━\u001b[0m\u001b[37m\u001b[0m \u001b[1m22s\u001b[0m 88ms/step - accuracy: 0.9968 - loss: 0.0176\n",
            "Fruit Classifier - Validation Loss: 0.0176\n",
            "Fruit Classifier - Validation Accuracy: 0.9968\n",
            "\n",
            "=== Evaluating Apple Quality Classifier (Fresh vs Rotten) ===\n"
          ]
        },
        {
          "name": "stderr",
          "output_type": "stream",
          "text": [
            "WARNING:absl:Compiled the loaded model, but the compiled metrics have yet to be built. `model.compile_metrics` will be empty until you train or evaluate the model.\n"
          ]
        },
        {
          "name": "stdout",
          "output_type": "stream",
          "text": [
            "Found 4035 images belonging to 2 classes.\n",
            "\u001b[1m127/127\u001b[0m \u001b[32m━━━━━━━━━━━━━━━━━━━━\u001b[0m\u001b[37m\u001b[0m \u001b[1m11s\u001b[0m 82ms/step - accuracy: 0.9943 - loss: 0.0180\n",
            "Apple Quality Classifier - Validation Loss: 0.0180\n",
            "Apple Quality Classifier - Validation Accuracy: 0.9943\n",
            "\n",
            "=== Evaluating Banana Quality Classifier (Fresh vs Rotten) ===\n"
          ]
        },
        {
          "name": "stderr",
          "output_type": "stream",
          "text": [
            "WARNING:absl:Compiled the loaded model, but the compiled metrics have yet to be built. `model.compile_metrics` will be empty until you train or evaluate the model.\n"
          ]
        },
        {
          "name": "stdout",
          "output_type": "stream",
          "text": [
            "Found 3805 images belonging to 2 classes.\n",
            "\u001b[1m119/119\u001b[0m \u001b[32m━━━━━━━━━━━━━━━━━━━━\u001b[0m\u001b[37m\u001b[0m \u001b[1m11s\u001b[0m 93ms/step - accuracy: 0.9995 - loss: 0.0013\n",
            "Banana Quality Classifier - Validation Loss: 0.0013\n",
            "Banana Quality Classifier - Validation Accuracy: 0.9995\n",
            "\u001b[1m245/245\u001b[0m \u001b[32m━━━━━━━━━━━━━━━━━━━━\u001b[0m\u001b[37m\u001b[0m \u001b[1m22s\u001b[0m 89ms/step - accuracy: 0.9968 - loss: 0.0176\n",
            "\u001b[1m127/127\u001b[0m \u001b[32m━━━━━━━━━━━━━━━━━━━━\u001b[0m\u001b[37m\u001b[0m \u001b[1m10s\u001b[0m 82ms/step - accuracy: 0.9943 - loss: 0.0180\n",
            "\u001b[1m119/119\u001b[0m \u001b[32m━━━━━━━━━━━━━━━━━━━━\u001b[0m\u001b[37m\u001b[0m \u001b[1m11s\u001b[0m 93ms/step - accuracy: 0.9995 - loss: 0.0013\n"
          ]
        },
        {
          "data": {
            "image/png": "[encoded data removed]",
            "text/plain": [
              "<Figure size 700x500 with 1 Axes>"
            ]
          },
          "metadata": {},
          "output_type": "display_data"
        }
      ],
      "source": [
        "# Import Libraries\n",
        "from tensorflow.keras.models import load_model\n",
        "from tensorflow.keras.preprocessing.image import ImageDataGenerator\n",
        "import matplotlib.pyplot as plt\n",
        "\n",
        "# Initialize Data Generator\n",
        "datagen = ImageDataGenerator(rescale=1./255)\n",
        "\n",
        "# ================================================================\n",
        "print(\"\\n=== Evaluating Fruit Classifier (Apple vs Banana) ===\")\n",
        "\n",
        "# Load model\n",
        "fruit_model = load_model(\"fruit_classifier.h5\")\n",
        "\n",
        "# Prepare validation data (dataset contains 'apple' and 'banana' folders)\n",
        "fruit_generator = datagen.flow_from_directory(\n",
        "    \"dataset\",\n",
        "    target_size=(128, 128),\n",
        "    batch_size=32,\n",
        "    class_mode='binary'\n",
        ")\n",
        "\n",
        "# Evaluate\n",
        "val_loss, val_accuracy = fruit_model.evaluate(fruit_generator)\n",
        "print(f\"Fruit Classifier - Validation Loss: {val_loss:.4f}\")\n",
        "print(f\"Fruit Classifier - Validation Accuracy: {val_accuracy:.4f}\")\n",
        "\n",
        "# ================================================================\n",
        "print(\"\\n=== Evaluating Apple Quality Classifier (Fresh vs Rotten) ===\")\n",
        "\n",
        "# Load model\n",
        "apple_model = load_model(\"apple_quality_classifier.h5\")\n",
        "\n",
        "# Prepare validation data (apple folder contains 'fresh' and 'rotten')\n",
        "apple_generator = datagen.flow_from_directory(\n",
        "    \"dataset/apple\",\n",
        "    target_size=(128, 128),\n",
        "    batch_size=32,\n",
        "    class_mode='binary'\n",
        ")\n",
        "\n",
        "# Evaluate\n",
        "val_loss, val_accuracy = apple_model.evaluate(apple_generator)\n",
        "print(f\"Apple Quality Classifier - Validation Loss: {val_loss:.4f}\")\n",
        "print(f\"Apple Quality Classifier - Validation Accuracy: {val_accuracy:.4f}\")\n",
        "\n",
        "# ================================================================\n",
        "print(\"\\n=== Evaluating Banana Quality Classifier (Fresh vs Rotten) ===\")\n",
        "\n",
        "# Load model\n",
        "banana_model = load_model(\"banana_quality_classifier.h5\")\n",
        "\n",
        "# Prepare validation data (banana folder contains 'fresh' and 'rotten')\n",
        "banana_generator = datagen.flow_from_directory(\n",
        "    \"dataset/banana\",\n",
        "    target_size=(128, 128),\n",
        "    batch_size=32,\n",
        "    class_mode='binary'\n",
        ")\n",
        "\n",
        "# Evaluate\n",
        "val_loss, val_accuracy = banana_model.evaluate(banana_generator)\n",
        "print(f\"Banana Quality Classifier - Validation Loss: {val_loss:.4f}\")\n",
        "print(f\"Banana Quality Classifier - Validation Accuracy: {val_accuracy:.4f}\")\n",
        "\n",
        "# === Visualization of Model Accuracies ===\n",
        "accuracies = [fruit_model.evaluate(fruit_generator)[1],\n",
        "              apple_model.evaluate(apple_generator)[1],\n",
        "              banana_model.evaluate(banana_generator)[1]]\n",
        "models = [\"Fruit Classifier\", \"Apple Quality\", \"Banana Quality\"]\n",
        "\n",
        "plt.figure(figsize=(7, 5))\n",
        "plt.bar(models, accuracies, color=[\"#4caf50\", \"#ff9800\", \"#2196f3\"])\n",
        "plt.ylabel(\"Accuracy\")\n",
        "plt.title(\"Model Accuracy Comparison\")\n",
        "plt.ylim(0, 1)\n",
        "for i, acc in enumerate(accuracies):\n",
        "    plt.text(i, acc + 0.02, f\"{acc:.2f}\", ha='center', fontsize=10)\n",
        "plt.show()\n"
      ]
    },
    {
      "cell_type": "markdown",
      "metadata": {
        "id": "PEj9ceR_TDkq"
      },
      "source": [
        "# FRONT END"
      ]
    },
    {
      "cell_type": "code",
      "execution_count": 2,
      "metadata": {
        "colab": {
          "base_uri": "https://localhost:8080/",
          "height": 495
        },
        "id": "-HaebaLMTRHc",
        "outputId": "4e7c8678-424e-4f5e-81a0-00a94081a014"
      },
      "outputs": [
        {
          "name": "stderr",
          "output_type": "stream",
          "text": [
            "WARNING:absl:Compiled the loaded model, but the compiled metrics have yet to be built. `model.compile_metrics` will be empty until you train or evaluate the model.\n",
            "WARNING:absl:Compiled the loaded model, but the compiled metrics have yet to be built. `model.compile_metrics` will be empty until you train or evaluate the model.\n",
            "WARNING:absl:Compiled the loaded model, but the compiled metrics have yet to be built. `model.compile_metrics` will be empty until you train or evaluate the model.\n"
          ]
        },
        {
          "name": "stdout",
          "output_type": "stream",
          "text": [
            "* Running on local URL:  http://127.0.0.1:7860\n",
            "* To create a public link, set `share=True` in `launch()`.\n"
          ]
        },
        {
          "data": {
            "text/html": [
              "<div><iframe src=\"http://127.0.0.1:7860/\" width=\"100%\" height=\"500\" allow=\"autoplay; camera; microphone; clipboard-read; clipboard-write;\" frameborder=\"0\" allowfullscreen></iframe></div>"
            ],
            "text/plain": [
              "<IPython.core.display.HTML object>"
            ]
          },
          "metadata": {},
          "output_type": "display_data"
        },
        {
          "data": {
            "text/plain": []
          },
          "execution_count": 2,
          "metadata": {},
          "output_type": "execute_result"
        },
        {
          "name": "stdout",
          "output_type": "stream",
          "text": [
            "\u001b[1m1/1\u001b[0m \u001b[32m━━━━━━━━━━━━━━━━━━━━\u001b[0m\u001b[37m\u001b[0m \u001b[1m0s\u001b[0m 487ms/step\n",
            "\u001b[1m1/1\u001b[0m \u001b[32m━━━━━━━━━━━━━━━━━━━━\u001b[0m\u001b[37m\u001b[0m \u001b[1m0s\u001b[0m 175ms/step\n",
            "\u001b[1m1/1\u001b[0m \u001b[32m━━━━━━━━━━━━━━━━━━━━\u001b[0m\u001b[37m\u001b[0m \u001b[1m0s\u001b[0m 136ms/step\n",
            "\u001b[1m1/1\u001b[0m \u001b[32m━━━━━━━━━━━━━━━━━━━━\u001b[0m\u001b[37m\u001b[0m \u001b[1m0s\u001b[0m 191ms/step\n",
            "\u001b[1m1/1\u001b[0m \u001b[32m━━━━━━━━━━━━━━━━━━━━\u001b[0m\u001b[37m\u001b[0m \u001b[1m0s\u001b[0m 127ms/step\n",
            "\u001b[1m1/1\u001b[0m \u001b[32m━━━━━━━━━━━━━━━━━━━━\u001b[0m\u001b[37m\u001b[0m \u001b[1m0s\u001b[0m 145ms/step\n"
          ]
        }
      ],
      "source": [
        "import gradio as gr\n",
        "from tensorflow.keras.models import load_model\n",
        "from tensorflow.keras.preprocessing.image import img_to_array\n",
        "import numpy as np\n",
        "from PIL import Image\n",
        "\n",
        "fruit_model = load_model(\"fruit_classifier.h5\")\n",
        "apple_model = load_model(\"apple_quality_classifier.h5\")\n",
        "banana_model = load_model(\"banana_quality_classifier.h5\")\n",
        "\n",
        "def predict_fruit_and_quality(image):\n",
        "    image_resized = image.resize((128, 128))\n",
        "    image_array = img_to_array(image_resized) / 255.0\n",
        "    image_array = np.expand_dims(image_array, axis=0)\n",
        "\n",
        "    fruit_prediction = fruit_model.predict(image_array)[0][0]\n",
        "    if fruit_prediction < 0.5:\n",
        "        fruit = \"Apple\"\n",
        "        quality_model = apple_model\n",
        "    else:\n",
        "        fruit = \"Banana\"\n",
        "        quality_model = banana_model\n",
        "\n",
        "    quality_prediction = quality_model.predict(image_array)[0][0]\n",
        "    quality = \"Fresh\" if quality_prediction < 0.5 else \"Rotten\"\n",
        "\n",
        "    return f\"{fruit}: {quality}\"\n",
        "\n",
        "iface = gr.Interface(\n",
        "    fn=predict_fruit_and_quality,\n",
        "    inputs=gr.Image(type=\"pil\"),\n",
        "    outputs=\"text\",\n",
        "    title=\"Fruit Quality Detection System\",\n",
        "    description=\"Upload an image of an apple or banana to detect the fruit type and check if it's fresh or rotten.\"\n",
        ")\n",
        "\n",
        "iface.launch()"
      ]
    }
  ],
  "metadata": {
    "accelerator": "GPU",
    "colab": {
      "gpuType": "T4",
      "provenance": []
    },
    "kernelspec": {
      "display_name": "Python 3",
      "name": "python3"
    },
    "language_info": {
      "codemirror_mode": {
        "name": "ipython",
        "version": 3
      },
      "file_extension": ".py",
      "mimetype": "text/x-python",
      "name": "python",
      "nbconvert_exporter": "python",
      "pygments_lexer": "ipython3",
      "version": "3.13.9"
    }
  },
  "nbformat": 4,
  "nbformat_minor": 0
}
